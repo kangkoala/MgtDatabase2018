{
 "cells": [
  {
   "cell_type": "markdown",
   "metadata": {},
   "source": [
    "## 서울메트로 무임승차 현황과 분석에 따른 조정안 제시\n",
    "### 분석 목표\n",
    "- 서울시 지하철의 일반승객 대비 무임승차 비율을 알아본다.\n",
    "- 무임승차 중 노령인구의 비율을 알아보고, 서울시 인구통계를 통해 앞으로의 추세를 살펴본다.\n",
    "- 이 모두를 분석한 후, 서울지하철의 적자폭을 개선하려면 무임승차 비율을 얼마로 조정해야하는지 확인해본다."
   ]
  },
  {
   "cell_type": "markdown",
   "metadata": {},
   "source": [
    "#### 서울지하철 무임승차로 인한 적자비율 이대로 괜찮은가?\n",
    "서울 지하철공사, 서울메트로의 적자폭이 매년 늘어나고 있다는 기사를 확인해본다.\n",
    "- 기사 원문 \n",
    "         http://www.yonhapnews.co.kr/bulletin/2017/04/26/0200000000AKR20170426056500004.HTML\n",
    "         http://news.jtbc.joins.com/article/article.aspx?news_id=NB11485154\n",
    "         http://www.hankookilbo.com/v/c84d6cac5b724ae0abed54dea809f3de"
   ]
  },
  {
   "cell_type": "code",
   "execution_count": 1,
   "metadata": {},
   "outputs": [],
   "source": [
    "# pandas 패키지 불러오기\n",
    "import pandas as pd\n",
    "import numpy as np"
   ]
  },
  {
   "cell_type": "code",
   "execution_count": 5,
   "metadata": {},
   "outputs": [
    {
     "data": {
      "text/html": [
       "<div>\n",
       "<style scoped>\n",
       "    .dataframe tbody tr th:only-of-type {\n",
       "        vertical-align: middle;\n",
       "    }\n",
       "\n",
       "    .dataframe tbody tr th {\n",
       "        vertical-align: top;\n",
       "    }\n",
       "\n",
       "    .dataframe thead th {\n",
       "        text-align: right;\n",
       "    }\n",
       "</style>\n",
       "<table border=\"1\" class=\"dataframe\">\n",
       "  <thead>\n",
       "    <tr style=\"text-align: right;\">\n",
       "      <th></th>\n",
       "      <th>연도</th>\n",
       "      <th>매출액</th>\n",
       "      <th>매출원가</th>\n",
       "      <th>당기순손익</th>\n",
       "    </tr>\n",
       "  </thead>\n",
       "  <tbody>\n",
       "    <tr>\n",
       "      <th>0</th>\n",
       "      <td>2013(S)</td>\n",
       "      <td>596,201,963,034</td>\n",
       "      <td>835,326,052,218</td>\n",
       "      <td>-287,680,509,568</td>\n",
       "    </tr>\n",
       "    <tr>\n",
       "      <th>1</th>\n",
       "      <td>2014(S)</td>\n",
       "      <td>647,488,542,280</td>\n",
       "      <td>863,833,829,902</td>\n",
       "      <td>-265,836,117,117</td>\n",
       "    </tr>\n",
       "    <tr>\n",
       "      <th>2</th>\n",
       "      <td>2015(S)</td>\n",
       "      <td>689,223,983,780</td>\n",
       "      <td>897,941,397,776</td>\n",
       "      <td>-271,049,690,618</td>\n",
       "    </tr>\n",
       "    <tr>\n",
       "      <th>3</th>\n",
       "      <td>2016(S)</td>\n",
       "      <td>722,016,684,580</td>\n",
       "      <td>947,485,825,652</td>\n",
       "      <td>-272,801,235,816</td>\n",
       "    </tr>\n",
       "  </tbody>\n",
       "</table>\n",
       "</div>"
      ],
      "text/plain": [
       "        연도              매출액             매출원가             당기순손익\n",
       "0  2013(S)  596,201,963,034  835,326,052,218  -287,680,509,568\n",
       "1  2014(S)  647,488,542,280  863,833,829,902  -265,836,117,117\n",
       "2  2015(S)  689,223,983,780  897,941,397,776  -271,049,690,618\n",
       "3  2016(S)  722,016,684,580  947,485,825,652  -272,801,235,816"
      ]
     },
     "execution_count": 5,
     "metadata": {},
     "output_type": "execute_result"
    }
   ],
   "source": [
    "# 데이터 로드 1\n",
    "finance_Seoulsubway = pd.read_csv('finance_Seoulsubway.csv',\n",
    "                     encoding= 'utf-8')\n",
    "finance_Seoulsubway.head()"
   ]
  },
  {
   "cell_type": "code",
   "execution_count": 8,
   "metadata": {},
   "outputs": [
    {
     "data": {
      "text/html": [
       "<div>\n",
       "<style scoped>\n",
       "    .dataframe tbody tr th:only-of-type {\n",
       "        vertical-align: middle;\n",
       "    }\n",
       "\n",
       "    .dataframe tbody tr th {\n",
       "        vertical-align: top;\n",
       "    }\n",
       "\n",
       "    .dataframe thead th {\n",
       "        text-align: right;\n",
       "    }\n",
       "</style>\n",
       "<table border=\"1\" class=\"dataframe\">\n",
       "  <thead>\n",
       "    <tr style=\"text-align: right;\">\n",
       "      <th></th>\n",
       "      <th>연도</th>\n",
       "      <th>매출액</th>\n",
       "      <th>매출원가</th>\n",
       "      <th>당기순손익</th>\n",
       "    </tr>\n",
       "  </thead>\n",
       "  <tbody>\n",
       "    <tr>\n",
       "      <th>0</th>\n",
       "      <td>2013(M)</td>\n",
       "      <td>1,067,494,627,243</td>\n",
       "      <td>1,084,360,115,017</td>\n",
       "      <td>-129,510,145,454</td>\n",
       "    </tr>\n",
       "    <tr>\n",
       "      <th>1</th>\n",
       "      <td>2014(M)</td>\n",
       "      <td>1,114,767,263,318</td>\n",
       "      <td>1,188,909,032,035</td>\n",
       "      <td>-158,694,239,883</td>\n",
       "    </tr>\n",
       "    <tr>\n",
       "      <th>2</th>\n",
       "      <td>2015(M)</td>\n",
       "      <td>1,182,708,364,501</td>\n",
       "      <td>1,211,392,317,700</td>\n",
       "      <td>-142,658,944,073</td>\n",
       "    </tr>\n",
       "    <tr>\n",
       "      <th>3</th>\n",
       "      <td>2016(M)</td>\n",
       "      <td>1,249,259,792,094</td>\n",
       "      <td>1,222,892,279,743</td>\n",
       "      <td>-112,246,911,625</td>\n",
       "    </tr>\n",
       "  </tbody>\n",
       "</table>\n",
       "</div>"
      ],
      "text/plain": [
       "        연도                 매출액                매출원가              당기순손익\n",
       "0  2013(M)  1,067,494,627,243   1,084,360,115,017   -129,510,145,454 \n",
       "1  2014(M)  1,114,767,263,318   1,188,909,032,035   -158,694,239,883 \n",
       "2  2015(M)  1,182,708,364,501   1,211,392,317,700   -142,658,944,073 \n",
       "3  2016(M)  1,249,259,792,094   1,222,892,279,743   -112,246,911,625 "
      ]
     },
     "execution_count": 8,
     "metadata": {},
     "output_type": "execute_result"
    }
   ],
   "source": [
    "# 데이터 로드 2\n",
    "finance_Seoulmetro = pd.read_csv('finance_Seoulmetro.csv',\n",
    "                     encoding= 'utf-8')\n",
    "finance_Seoulmetro.head()"
   ]
  },
  {
   "cell_type": "markdown",
   "metadata": {},
   "source": [
    "서울 지하철은 1~4호선을 운영하는 서울메트로, 5~9호선을 운영하는 서울도로교통공사로 이루어져있다.\n",
    "따라서 이 둘의 지표를 합쳐서 볼필요가 있다."
   ]
  },
  {
   "cell_type": "code",
   "execution_count": 14,
   "metadata": {},
   "outputs": [
    {
     "data": {
      "text/html": [
       "<div>\n",
       "<style scoped>\n",
       "    .dataframe tbody tr th:only-of-type {\n",
       "        vertical-align: middle;\n",
       "    }\n",
       "\n",
       "    .dataframe tbody tr th {\n",
       "        vertical-align: top;\n",
       "    }\n",
       "\n",
       "    .dataframe thead th {\n",
       "        text-align: right;\n",
       "    }\n",
       "</style>\n",
       "<table border=\"1\" class=\"dataframe\">\n",
       "  <thead>\n",
       "    <tr style=\"text-align: right;\">\n",
       "      <th></th>\n",
       "      <th>연도</th>\n",
       "      <th>매출액</th>\n",
       "      <th>매출원가</th>\n",
       "      <th>당기순손익</th>\n",
       "    </tr>\n",
       "  </thead>\n",
       "  <tbody>\n",
       "  </tbody>\n",
       "</table>\n",
       "</div>"
      ],
      "text/plain": [
       "Empty DataFrame\n",
       "Columns: [연도, 매출액, 매출원가, 당기순손익]\n",
       "Index: []"
      ]
     },
     "execution_count": 14,
     "metadata": {},
     "output_type": "execute_result"
    }
   ],
   "source": [
    "data_result = pd.merge (finance_Seoulmetro, finance_Seoulsubway)\n",
    "data_result"
   ]
  },
  {
   "cell_type": "code",
   "execution_count": null,
   "metadata": {},
   "outputs": [],
   "source": []
  },
  {
   "cell_type": "code",
   "execution_count": null,
   "metadata": {},
   "outputs": [],
   "source": []
  },
  {
   "cell_type": "code",
   "execution_count": null,
   "metadata": {},
   "outputs": [],
   "source": []
  },
  {
   "cell_type": "code",
   "execution_count": null,
   "metadata": {},
   "outputs": [],
   "source": []
  }
 ],
 "metadata": {
  "kernelspec": {
   "display_name": "Python 3",
   "language": "python",
   "name": "python3"
  },
  "language_info": {
   "codemirror_mode": {
    "name": "ipython",
    "version": 3
   },
   "file_extension": ".py",
   "mimetype": "text/x-python",
   "name": "python",
   "nbconvert_exporter": "python",
   "pygments_lexer": "ipython3",
   "version": "3.6.4"
  }
 },
 "nbformat": 4,
 "nbformat_minor": 2
}
